{
 "cells": [
  {
   "cell_type": "markdown",
   "metadata": {
    "id": "fihxyuFbyObJ"
   },
   "source": [
    "This python notebook is used to run the codes directly from Jupyter Notebook or Google Colab\n",
    "\n",
    "Here are the manuals from the read me mark down source from following Github repository :\n",
    "https://github.com/ansh941/MnistSimpleCNN\n",
    "\n",
    "## MnistSimpleCNN\n",
    "\n",
    "This repository is implementation of \"An Ensemble of Simple Convolutional Neural Network Models for MNIST Digit Recognition\".\n",
    "\n",
    "Paper url is https://arxiv.org/abs/2008.10400.\n",
    "\n",
    "In paper, we propose simple models classifying MNIST called M3, M5, M7 following kernel size.\n",
    "\n",
    "### Train\n",
    "\n",
    "```bash\n",
    "python3 train.py --seed=0 --trial=10 --kernel_size=5 --gpu=0 --logdir=modelM5\n",
    "```\n",
    "\n",
    "Parameters:\n",
    "\n",
    "seed : random seed number\n",
    "\n",
    "trial : the number of trial. When previous trial is end, add present trial number to seed number.\n",
    "\n",
    "Ex) seed=0 trial=10 ⇒ execute seed 0~9\n",
    "\n",
    "kernel_size : kernel size of model. You can select the model following this parameter.\n",
    "\n",
    "gpu : gpu number. You can use only one gpu during training in this code, but can select gpu when you training.\n",
    "\n",
    "logdir : save directory address name. It makes a sub-directory using that name at logs directory.\n",
    "\n"
   ]
  },
  {
   "cell_type": "code",
   "execution_count": 4,
   "metadata": {
    "id": "zW1BiP-PyMbK"
   },
   "outputs": [
    {
     "name": "stdout",
     "output_type": "stream",
     "text": [
      "Check point 1\n",
      "Check point 2\n",
      "WARNING: CPU will be used for training.\n"
     ]
    }
   ],
   "source": [
    "# Run this to run the train.py\n",
    "# You can also edit the parameters too to suit your needs\n",
    "!train.py --seed=0 --trial=10 --kernel_size=5 --gpu=0 --logdir=modelM5"
   ]
  },
  {
   "cell_type": "code",
   "execution_count": null,
   "metadata": {},
   "outputs": [],
   "source": []
  },
  {
   "cell_type": "markdown",
   "metadata": {
    "id": "iOVl-LJ-yrkh"
   },
   "source": [
    "### Test\n",
    "\n",
    "```bash\n",
    "python3 test.py  --seed=0 --trial=10 --kernel_size=5 --logdir=modelM5\n",
    "```\n",
    "\n",
    "test.py loads model saving files and make wrong image number list for each seed.\n",
    "\n"
   ]
  },
  {
   "cell_type": "code",
   "execution_count": 6,
   "metadata": {
    "id": "5R914iyFy3Sj"
   },
   "outputs": [
    {
     "name": "stdout",
     "output_type": "stream",
     "text": [
      "WARNING: CPU will be used for training.\n"
     ]
    }
   ],
   "source": [
    "!test.py  --seed=0 --trial=10 --kernel_size=5 --logdir=modelM5"
   ]
  },
  {
   "cell_type": "markdown",
   "metadata": {
    "id": "0rT9V5bOy6Li"
   },
   "source": [
    "### Ensemble\n",
    "\n",
    "```bash\n",
    "python3 homo_ensemble.py --kernel_size=5\n",
    "```\n",
    "\n",
    "homo_ensemble.py loads wrong image number list files of same model saving during executing test.py. And then calculate the accuracy of ensemble model through majority voting.\n"
   ]
  },
  {
   "cell_type": "code",
   "execution_count": null,
   "metadata": {
    "id": "fCUgaVuJzCKQ"
   },
   "outputs": [],
   "source": [
    "!python3 homo_ensemble.py --kernel_size=5"
   ]
  }
 ],
 "metadata": {
  "colab": {
   "collapsed_sections": [],
   "name": "main.ipynb",
   "provenance": []
  },
  "kernelspec": {
   "display_name": "Python 3 (ipykernel)",
   "language": "python",
   "name": "python3"
  },
  "language_info": {
   "codemirror_mode": {
    "name": "ipython",
    "version": 3
   },
   "file_extension": ".py",
   "mimetype": "text/x-python",
   "name": "python",
   "nbconvert_exporter": "python",
   "pygments_lexer": "ipython3",
   "version": "3.9.5"
  }
 },
 "nbformat": 4,
 "nbformat_minor": 1
}
